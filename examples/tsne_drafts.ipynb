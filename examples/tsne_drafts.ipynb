{
 "cells": [
  {
   "cell_type": "markdown",
   "metadata": {},
   "source": [
    "# TSNE.jl"
   ]
  },
  {
   "cell_type": "markdown",
   "metadata": {},
   "source": [
    "## TSNE main code"
   ]
  },
  {
   "cell_type": "code",
   "execution_count": 2,
   "metadata": {},
   "outputs": [],
   "source": [
    "using LinearAlgebra"
   ]
  },
  {
   "cell_type": "code",
   "execution_count": 3,
   "metadata": {},
   "outputs": [
    {
     "data": {
      "text/plain": [
       "2"
      ]
     },
     "execution_count": 3,
     "metadata": {},
     "output_type": "execute_result"
    }
   ],
   "source": [
    "N = 200\n",
    "X_dim = 100\n",
    "Y_dim = 2"
   ]
  },
  {
   "cell_type": "code",
   "execution_count": 4,
   "metadata": {},
   "outputs": [],
   "source": [
    "data = randn(N,X_dim);\n",
    "data_red = randn(N,Y_dim);"
   ]
  },
  {
   "cell_type": "code",
   "execution_count": 5,
   "metadata": {},
   "outputs": [
    {
     "data": {
      "text/plain": [
       "eu_dist (generic function with 1 method)"
      ]
     },
     "execution_count": 5,
     "metadata": {},
     "output_type": "execute_result"
    }
   ],
   "source": [
    "function eu_dist(data::Array{Float64,2})\n",
    "    dist_mat2 = zeros(size(data)[1],size(data)[1])\n",
    "    for i in 1:size(data)[1], j in i:size(data)[1]\n",
    "        dist_mat2[i,j] = sum((data[i,:] - data[j,:]).^2)\n",
    "        dist_mat2[j,i] = dist_mat2[i,j]\n",
    "    end\n",
    "    dist_mat2\n",
    "end\n",
    "# eu_dist(data::Matrix{Float64}) = sum(data.^2,dims=2)"
   ]
  },
  {
   "cell_type": "code",
   "execution_count": 149,
   "metadata": {},
   "outputs": [
    {
     "data": {
      "text/plain": [
       "random_start (generic function with 1 method)"
      ]
     },
     "execution_count": 149,
     "metadata": {},
     "output_type": "execute_result"
    }
   ],
   "source": [
    "function random_start(sample_size::Int,dim::Int;normal::Bool=false,seed::Bool=false)\n",
    "    if seed\n",
    "        Random.seed!(1234)\n",
    "    end\n",
    "    normal ? randn(sample_size,dim) : rand(sample_size,dim)\n",
    "end"
   ]
  },
  {
   "cell_type": "code",
   "execution_count": 6,
   "metadata": {},
   "outputs": [],
   "source": [
    "dist_mat = eu_dist(data);\n",
    "dist_mat_red = eu_dist(data_red);"
   ]
  },
  {
   "cell_type": "code",
   "execution_count": 7,
   "metadata": {},
   "outputs": [
    {
     "data": {
      "text/plain": [
       "200×1 Matrix{Float64}:\n",
       " 137.79881859468145\n",
       "  96.68967276883663\n",
       " 108.17324657544788\n",
       " 102.56513013369658\n",
       "  94.66035080555511\n",
       " 110.52650466085\n",
       "  99.65545868900443\n",
       " 113.64252958860244\n",
       "  76.73391567867316\n",
       "  92.22826315133221\n",
       "  84.75472342330943\n",
       "  96.86634590770481\n",
       "  88.40676071336827\n",
       "   ⋮\n",
       "  95.68779915122222\n",
       " 100.95360915032619\n",
       "  81.25687985332095\n",
       " 112.9551398133758\n",
       "  88.85591321198835\n",
       "  84.13425480125956\n",
       " 125.37604676964925\n",
       " 103.82023730878183\n",
       " 116.40887554463744\n",
       "  87.34516189361771\n",
       " 103.23732368084035\n",
       " 101.9122187731591"
      ]
     },
     "execution_count": 7,
     "metadata": {},
     "output_type": "execute_result"
    }
   ],
   "source": [
    "sum(data.^2,dims=2)"
   ]
  },
  {
   "cell_type": "code",
   "execution_count": 8,
   "metadata": {},
   "outputs": [
    {
     "data": {
      "text/plain": [
       "cond_gauss (generic function with 1 method)"
      ]
     },
     "execution_count": 8,
     "metadata": {},
     "output_type": "execute_result"
    }
   ],
   "source": [
    "function cond_gauss(data::Matrix{Float64};sigma::Float64=1.0)\n",
    "    exp_mat = exp.(-eu_dist(data)/(2*sigma^2))\n",
    "    for i in 1:size(exp_mat)[1]\n",
    "        exp_mat[i,i] = 0.\n",
    "    end\n",
    "    prob = max.(exp_mat/sum(exp_mat),1e-12)\n",
    "    prob, exp_mat\n",
    "end"
   ]
  },
  {
   "cell_type": "code",
   "execution_count": 9,
   "metadata": {},
   "outputs": [
    {
     "data": {
      "text/plain": [
       "cond_t (generic function with 1 method)"
      ]
     },
     "execution_count": 9,
     "metadata": {},
     "output_type": "execute_result"
    }
   ],
   "source": [
    "function cond_t(data::Matrix{Float64};df::Int64=1)\n",
    "    sum_x = sum(data.^2,dims=2)\n",
    "    D = transpose(-2. * data * transpose(data) .+ sum_x) .+ sum_x\n",
    "    num = 1. ./ (1. .+ D)\n",
    "    for i in 1:size(num)[1]\n",
    "        num[i,i] = 0.\n",
    "    end\n",
    "    max.(num/sum(num),1e-12), num\n",
    "end"
   ]
  },
  {
   "cell_type": "code",
   "execution_count": 10,
   "metadata": {},
   "outputs": [],
   "source": [
    "p_distr, exp_mat = cond_gauss(data)\n",
    "q_distr_g, _ = cond_gauss(data_red,sigma=1/(sqrt(2)));\n",
    "q_distr_t, num = cond_t(data_red);\n"
   ]
  },
  {
   "cell_type": "code",
   "execution_count": 134,
   "metadata": {},
   "outputs": [
    {
     "data": {
      "text/plain": [
       "cost_KL (generic function with 1 method)"
      ]
     },
     "execution_count": 134,
     "metadata": {},
     "output_type": "execute_result"
    }
   ],
   "source": [
    "function cost_KL(p_distr::Matrix{Float64},q_distr::Matrix{Float64})\n",
    "    l = log.(p_distr./q_distr)\n",
    "    for i in 1:size(l)[1]\n",
    "        l[i,i] = 0.\n",
    "    end\n",
    "    cost = sum(p_distr.*l)\n",
    "end"
   ]
  },
  {
   "cell_type": "code",
   "execution_count": 12,
   "metadata": {},
   "outputs": [
    {
     "data": {
      "text/plain": [
       "perplexity (generic function with 1 method)"
      ]
     },
     "execution_count": 12,
     "metadata": {},
     "output_type": "execute_result"
    }
   ],
   "source": [
    "function shannon_entropy(p_distr::Matrix{Float64})\n",
    "    sh = p_distr.* log2.(p_distr)\n",
    "    for i in 1:size(sh)[1]\n",
    "        sh[i,i] = 0.\n",
    "    end\n",
    "    -sum(sh,dims=2)\n",
    "end\n",
    "\n",
    "perplexity(p_distr::Matrix{Float64}) = 2 .^shannon_entropy(p_distr)\n"
   ]
  },
  {
   "cell_type": "code",
   "execution_count": 13,
   "metadata": {},
   "outputs": [],
   "source": [
    "perplexity(p_distr);"
   ]
  },
  {
   "cell_type": "code",
   "execution_count": 14,
   "metadata": {},
   "outputs": [
    {
     "data": {
      "text/plain": [
       "(200, 2)"
      ]
     },
     "execution_count": 14,
     "metadata": {},
     "output_type": "execute_result"
    }
   ],
   "source": [
    "size(data_red)"
   ]
  },
  {
   "cell_type": "code",
   "execution_count": 15,
   "metadata": {},
   "outputs": [
    {
     "data": {
      "text/plain": [
       "1×2 Matrix{Float64}:\n",
       " 0.000415398  -0.00126871"
      ]
     },
     "execution_count": 15,
     "metadata": {},
     "output_type": "execute_result"
    }
   ],
   "source": [
    "PQ = p_distr - q_distr_t\n",
    "sum(repeat(PQ[:,1] .* num[:,1],1,2) .* (transpose(data_red[1,:]) .- data_red),dims=1)"
   ]
  },
  {
   "cell_type": "code",
   "execution_count": 79,
   "metadata": {},
   "outputs": [
    {
     "data": {
      "text/plain": [
       "grad_KL (generic function with 2 methods)"
      ]
     },
     "execution_count": 79,
     "metadata": {},
     "output_type": "execute_result"
    }
   ],
   "source": [
    "function grad_KL(P::Matrix{Float64},data_red::Matrix{Float64},q_distr::Matrix{Float64},num::Matrix{Float64})\n",
    "    PQ = P - q_distr\n",
    "    dy = zeros(size(data_red))\n",
    "    for i in 1:size(dy)[1]\n",
    "        dy[i,:] = sum(repeat(PQ[:,i] .* num[:,i],1,size(data_red)[2]) .* (transpose(data_red[i,:]) .- data_red),dims=1)\n",
    "    end\n",
    "    dy\n",
    "end"
   ]
  },
  {
   "cell_type": "code",
   "execution_count": 17,
   "metadata": {},
   "outputs": [],
   "source": [
    "dr = copy(data_red);"
   ]
  },
  {
   "cell_type": "code",
   "execution_count": 18,
   "metadata": {},
   "outputs": [
    {
     "name": "stdout",
     "output_type": "stream",
     "text": [
      "10 8.0872838578418\n",
      "20 8.07013807354966\n",
      "30 8.053673386743656\n",
      "40 8.038068342479363\n",
      "50 8.023468248462633\n",
      "60 8.010013529125755\n",
      "70 7.997798033898676\n",
      "80 7.986780418513629\n",
      "90 7.976763336817375\n",
      "100 7.967477431810766\n",
      "110 7.958681128536075\n",
      "120 7.9502050434165765\n",
      "130 7.9419482135731085\n",
      "140 7.933857491975354\n",
      "150 7.925908093626475\n",
      "160 7.918089960325183\n",
      "170 7.910399333583765\n",
      "180 7.902833983563147\n",
      "190 7.895390837721196\n",
      "200 7.888065133376637\n",
      "210 7.880850467081499\n",
      "220 7.873739279531051\n",
      "230 7.8667234563591455\n",
      "240 7.859794856332296\n",
      "250 7.852945686609948\n",
      "260 7.846168717847585\n",
      "270 7.839457369718579\n",
      "280 7.832805708825051\n",
      "290 7.826208397282497\n",
      "300 7.819660620598373\n",
      "310 7.813158013314968\n",
      "320 7.806696592719389\n",
      "330 7.8002727053293945\n",
      "340 7.793882987533087\n",
      "350 7.78752434009277\n",
      "360 7.781193915632932\n",
      "370 7.774889118260109\n",
      "380 7.7686076147895875\n",
      "390 7.762347357473561\n",
      "400 7.756106618502146\n",
      "410 7.749884036779985\n",
      "420 7.74367867746563\n",
      "430 7.737490104374636\n",
      "440 7.731318464432446\n",
      "450 7.725164581731109\n",
      "460 7.7190300562044225\n",
      "470 7.712917358370413\n",
      "480 7.706829907081925\n",
      "490 7.700772112267772\n",
      "500 7.694749360375249\n",
      "510 7.688767918573765\n",
      "520 7.682834737309475\n",
      "530 7.676957141919898\n",
      "540 7.6711424234912275\n",
      "550 7.665397364335224\n",
      "560 7.659727757519718\n",
      "570 7.654137993280664\n",
      "580 7.648630779959445\n",
      "590 7.643207042059226\n",
      "600 7.637866000564939\n",
      "610 7.632605403948611\n",
      "620 7.627421854361637\n",
      "630 7.622311167702097\n",
      "640 7.617268715930782\n",
      "650 7.612289717897073\n",
      "660 7.607369463528136\n",
      "670 7.6025034707381725\n",
      "680 7.597687583257121\n",
      "690 7.592918021416078\n",
      "700 7.588191398329365\n",
      "710 7.583504712444552\n",
      "720 7.578855325240657\n",
      "730 7.574240930627518\n",
      "740 7.569659520664269\n",
      "750 7.565109350678554\n",
      "760 7.560588905719319\n",
      "770 7.556096869456336\n",
      "780 7.551632096077286\n",
      "790 7.547193585363061\n",
      "800 7.542780460889526\n",
      "810 7.538391951167577\n",
      "820 7.534027373461605\n",
      "830 7.529686119997446\n",
      "840 7.5253676462683\n",
      "850 7.5210714611606875\n",
      "860 7.516797118644719\n",
      "870 7.512544210798973\n",
      "880 7.508312361967553\n",
      "890 7.504101223873009\n",
      "900 7.499910471533324\n",
      "910 7.495739799853121\n",
      "920 7.491588920778973\n",
      "930 7.487457560925501\n",
      "940 7.4833454595939735\n",
      "950 7.479252367117574\n",
      "960 7.47517804347823\n",
      "970 7.471122257149155\n",
      "980 7.4670847841247125\n",
      "990 7.463065407105779\n",
      "1000 7.459063914814113\n"
     ]
    }
   ],
   "source": [
    "for t in 1:1000\n",
    "    dy = grad_KL(data,dr)\n",
    "    dr = dr - 1*dy\n",
    "    if t%10 == 0\n",
    "        println(t,\" \",cost_KL(cond_gauss(data)[1],cond_t(dr)[1]))\n",
    "    end\n",
    "end"
   ]
  },
  {
   "cell_type": "code",
   "execution_count": 19,
   "metadata": {},
   "outputs": [
    {
     "data": {
      "text/plain": [
       "200×2 Matrix{Float64}:\n",
       " -0.933701    2.53472\n",
       " -1.48782    -1.91453\n",
       " -0.174465    2.44526\n",
       " -0.806575   -0.256563\n",
       "  0.787241    0.117058\n",
       "  0.0727338  -0.117018\n",
       "  0.396796   -1.33729\n",
       "  2.80552    -1.72339\n",
       " -0.181783    0.509449\n",
       " -2.55173    -1.95207\n",
       "  2.81935    -0.233892\n",
       "  1.43268    -0.681383\n",
       " -1.51683    -2.08284\n",
       "  ⋮          \n",
       "  0.510146   -1.91705\n",
       "  2.14844     2.01836\n",
       "  0.222155   -0.801307\n",
       "  0.842048    2.10632\n",
       "  0.663007   -2.83952\n",
       "  0.505978    0.700115\n",
       "  0.618499    1.19886\n",
       " -0.752896    1.97446\n",
       " -2.04272     0.28795\n",
       " -3.431       1.51561\n",
       "  0.154974   -2.3535\n",
       "  1.01137     2.86957"
      ]
     },
     "execution_count": 19,
     "metadata": {},
     "output_type": "execute_result"
    }
   ],
   "source": [
    "dr .- repeat(sum(dr,dims=1)/size(dr)[1],size(dr)[1],1)"
   ]
  },
  {
   "cell_type": "code",
   "execution_count": 137,
   "metadata": {},
   "outputs": [
    {
     "data": {
      "text/plain": [
       "gradient_descent (generic function with 1 method)"
      ]
     },
     "execution_count": 137,
     "metadata": {},
     "output_type": "execute_result"
    }
   ],
   "source": [
    "function gradient_descent(T::Int64,P::Matrix{Float64},data_red::Matrix{Float64},lr::Float64;v::Bool)\n",
    "    # Start iterating\n",
    "    dr = copy(data_red)\n",
    "    println(\"Beginning gradient descent...\")\n",
    "    for t in 1:T\n",
    "        # Compute gradient\n",
    "        q_distr, num = cond_t(dr)\n",
    "        size(P) != size(q_distr) && throw(ArgumentError(\"sizes don't match\"))\n",
    "        dy = grad_KL(P,dr,q_distr,num)\n",
    "        # Update values\n",
    "        dr = dr - lr * dy\n",
    "        # Compute loss\n",
    "        if v && t % 10 == 0\n",
    "            println(\"t=$t, C=$(cost_KL(P,q_distr))\")\n",
    "        end\n",
    "        # Center in zero\n",
    "        dr = dr - repeat(sum(dr,dims=1)/size(dr)[1],size(dr)[1],1)\n",
    "    end\n",
    "    dr\n",
    "end"
   ]
  },
  {
   "cell_type": "code",
   "execution_count": 138,
   "metadata": {},
   "outputs": [
    {
     "data": {
      "text/plain": [
       "tsne (generic function with 1 method)"
      ]
     },
     "execution_count": 138,
     "metadata": {},
     "output_type": "execute_result"
    }
   ],
   "source": [
    "function tsne(X::Matrix{Float64},emb_size::Int64,T::Int64;lr::Float64=1.,perp::Float64=30.,tol::Float64=1e-5,max_iter::Int=50,verbose::Bool=true)\n",
    "    # Create an initial random embedding\n",
    "    Y = randn(size(X)[1],emb_size)\n",
    "    # Search for the sigmas of the Gaussians\n",
    "    P, sigma = binary_search(X,perp,tol,max_iter,v=verbose)\n",
    "    # Start the iteration\n",
    "    Y_new = gradient_descent(T,P,Y,lr,v=true)\n",
    "    # Y_new, P\n",
    "end"
   ]
  },
  {
   "cell_type": "code",
   "execution_count": null,
   "metadata": {},
   "outputs": [
    {
     "data": {
      "text/plain": [
       "H_sigma (generic function with 2 methods)"
      ]
     },
     "metadata": {},
     "output_type": "display_data"
    }
   ],
   "source": [
    "function H_sigma(D::Vector{Float64},sigma::Float64)\n",
    "    P = exp.(-D * sigma) \n",
    "    sum_p = sum(P)\n",
    "    H = log(sum_p) + sigma * sum(D .* P) / sum_p\n",
    "    P = P / sum_p\n",
    "    return H, P\n",
    "end"
   ]
  },
  {
   "cell_type": "code",
   "execution_count": 146,
   "metadata": {},
   "outputs": [
    {
     "name": "stdout",
     "output_type": "stream",
     "text": [
      "Beginning gradient descent...\n",
      "t=10, C=1450.936404664589\n",
      "t=20, C=1435.7045711204823\n",
      "t=30, C=1429.1639481600748\n",
      "t=40, C=1426.8987991692964\n",
      "t=50, C=1426.1575636648322\n",
      "t=60, C=1426.088090209072\n",
      "t=70, C=1426.3245959392068\n",
      "t=80, C=1426.5748731165313\n",
      "t=90, C=1426.7554593261748\n",
      "t=100, C=1426.891001144702\n",
      "t=110, C=1427.068274092187\n",
      "t=120, C=1427.3794858271517\n",
      "t=130, C=1427.8257340702285\n",
      "t=140, C=1428.3233048888958\n",
      "t=150, C=1428.8117086510226\n",
      "t=160, C=1429.2729388988837\n",
      "t=170, C=1429.7047895685505\n",
      "t=180, C=1430.1092903078547\n",
      "t=190, C=1430.489533637054\n",
      "t=200, C=1430.8485740205563\n",
      "t=210, C=1431.189216901576\n",
      "t=220, C=1431.5141050878715\n",
      "t=230, C=1431.825691297058\n",
      "t=240, C=1432.126082591617\n",
      "t=250, C=1432.4169173201474\n",
      "t=260, C=1432.6993478762718\n",
      "t=270, C=1432.97408081828\n",
      "t=280, C=1433.2414030806303\n",
      "t=290, C=1433.5011706924563\n",
      "t=300, C=1433.7527834624493\n",
      "t=310, C=1433.9951880110102\n",
      "t=320, C=1434.2269497990403\n",
      "t=330, C=1434.4464175573873\n",
      "t=340, C=1434.6519683635684\n",
      "t=350, C=1434.8422786339834\n",
      "t=360, C=1435.016542984683\n",
      "t=370, C=1435.1745797501194\n",
      "t=380, C=1435.316809049747\n",
      "t=390, C=1435.4441351718986\n",
      "t=400, C=1435.5577856240018\n",
      "t=410, C=1435.6591531803117\n",
      "t=420, C=1435.7496681716893\n",
      "t=430, C=1435.8307096236824\n",
      "t=440, C=1435.903551971446\n",
      "t=450, C=1435.9693390959626\n",
      "t=460, C=1436.02907691802\n",
      "t=470, C=1436.0836373256732\n",
      "t=480, C=1436.1337682431774\n",
      "t=490, C=1436.1801064454503\n",
      "t=500, C=1436.223191063312\n"
     ]
    }
   ],
   "source": [
    "import Random \n",
    "Random.seed!(1234)\n",
    "y_new, P = tsne(data,2,500,lr=0.1,verbose=false);"
   ]
  },
  {
   "cell_type": "code",
   "execution_count": 123,
   "metadata": {},
   "outputs": [
    {
     "data": {
      "text/plain": [
       "NaN"
      ]
     },
     "execution_count": 123,
     "metadata": {},
     "output_type": "execute_result"
    }
   ],
   "source": [
    "Q = cond_t(y_new)[1]\n"
   ]
  },
  {
   "cell_type": "markdown",
   "metadata": {},
   "source": [
    "## Perplexity search"
   ]
  },
  {
   "cell_type": "code",
   "execution_count": 96,
   "metadata": {},
   "outputs": [
    {
     "data": {
      "text/plain": [
       "H_sigma (generic function with 2 methods)"
      ]
     },
     "execution_count": 96,
     "metadata": {},
     "output_type": "execute_result"
    }
   ],
   "source": [
    "function H_sigma(D::Vector{Float64},sigma::Float64)\n",
    "    P = exp.(-D * sigma)\n",
    "    sum_p = sum(P)\n",
    "    H = log(sum_p) + sigma * sum(D .* P) / sum_p\n",
    "    P = P / sum_p\n",
    "    return H, P\n",
    "end"
   ]
  },
  {
   "cell_type": "code",
   "execution_count": 116,
   "metadata": {},
   "outputs": [
    {
     "data": {
      "text/plain": [
       "binary_search (generic function with 3 methods)"
      ]
     },
     "execution_count": 116,
     "metadata": {},
     "output_type": "execute_result"
    }
   ],
   "source": [
    "function binary_search(data::Matrix{Float64},perp::Float64,tol::Float64,max_iter::Int;v::Bool)\n",
    "    N, d = size(data)\n",
    "    sigma = ones(N)\n",
    "    P = zeros(N,N)\n",
    "    sum_x = sum(data.^2,dims=2)\n",
    "    D = transpose(-2. * data * transpose(data) .+ sum_x) .+ sum_x\n",
    "    log_perp = log(perp)\n",
    "    for i in 1:N\n",
    "        if v && i % 10 == 0\n",
    "            println(\"Perplexity search $i / $N\")\n",
    "        end\n",
    "        sigma_low = -Inf\n",
    "        sigma_high = Inf\n",
    "        idx = vcat(1:i-1,i+1:N)\n",
    "        # println(idx)\n",
    "        D_i = D[i,idx]\n",
    "        H, probs = H_sigma(D_i,sigma[i])\n",
    "        delta_H = H - log_perp\n",
    "        iter = 0\n",
    "        while abs(delta_H) > tol && iter < max_iter\n",
    "            # Perform binary update\n",
    "            if delta_H > 0.\n",
    "                sigma_low = sigma[i]\n",
    "                (sigma_high == Inf || sigma_high == -Inf) && (sigma[i] = sigma[i] * 2.)\n",
    "                (sigma_high != Inf && sigma_high != -Inf) && (sigma[i] = (sigma[i] + sigma_high) / 2.)\n",
    "            else\n",
    "                sigma_high = sigma[i]\n",
    "                (sigma_low == Inf || sigma_low == -Inf) && (sigma[i] = sigma[i] / 2.)\n",
    "                (sigma_low != Inf && sigma_low != -Inf) && (sigma[i] = (sigma[i] + sigma_low) / 2.)\n",
    "            end\n",
    "\n",
    "            H, probs = H_sigma(D_i, sigma[i])\n",
    "            delta_H = H - log_perp\n",
    "            iter += 1\n",
    "        end\n",
    "        P[i,idx] = probs\n",
    "    end\n",
    "    P, sigma\n",
    "end"
   ]
  },
  {
   "cell_type": "code",
   "execution_count": 75,
   "metadata": {},
   "outputs": [
    {
     "name": "stdout",
     "output_type": "stream",
     "text": [
      "Perplexity search 10 / 200\n",
      "Perplexity search 20 / 200\n",
      "Perplexity search 30 / 200\n",
      "Perplexity search 40 / 200\n",
      "Perplexity search 50 / 200\n",
      "Perplexity search 60 / 200\n",
      "Perplexity search 70 / 200\n",
      "Perplexity search 80 / 200\n",
      "Perplexity search 90 / 200\n",
      "Perplexity search 100 / 200\n",
      "Perplexity search 110 / 200\n",
      "Perplexity search 120 / 200\n",
      "Perplexity search 130 / 200\n",
      "Perplexity search 140 / 200\n",
      "Perplexity search 150 / 200\n",
      "Perplexity search 160 / 200\n",
      "Perplexity search 170 / 200\n",
      "Perplexity search 180 / 200\n",
      "Perplexity search 190 / 200\n",
      "Perplexity search 200 / 200\n"
     ]
    },
    {
     "data": {
      "text/plain": [
       "200×200 Matrix{Float64}:\n",
       " 0.0          0.013009     0.00174562   …  0.000453386  0.000478851\n",
       " 0.000143973  0.0          6.62514e-6      2.48162e-5   9.84478e-6\n",
       " 9.0575e-5    3.79863e-5   0.0             0.000275414  0.000690368\n",
       " 0.000340016  0.000835163  0.00121974      0.000996583  0.000530297\n",
       " 1.9457e-5    0.000572194  0.0141666       1.03513e-5   2.84998e-5\n",
       " 3.50639e-6   0.000248716  3.00713e-5   …  0.00091807   3.67982e-6\n",
       " 4.125e-7     0.00649562   1.07812e-5      4.54708e-5   8.96195e-5\n",
       " 6.53741e-5   0.0342169    1.27029e-5      0.000118655  0.0123752\n",
       " 3.83155e-7   0.000314369  0.00842069      8.69832e-5   0.000339723\n",
       " 6.51878e-6   0.000399306  0.00115832      0.00221378   0.00259398\n",
       " 1.42411e-5   0.000563238  0.000275948  …  0.000535009  0.00194153\n",
       " 1.36409e-7   0.000128826  0.00196263      0.00215751   0.00130628\n",
       " 0.00016258   0.000648007  1.45371e-5      0.00258399   0.000165553\n",
       " ⋮                                      ⋱               \n",
       " 6.12407e-7   0.000331047  9.35834e-5      4.36117e-5   0.000126473\n",
       " 1.08031e-6   0.0194449    0.000334888     8.48905e-6   0.00102277\n",
       " 1.81063e-5   0.00146378   4.01223e-5   …  0.000370739  1.55517e-5\n",
       " 7.99521e-6   0.00156974   4.24617e-5      5.81072e-5   0.000317781\n",
       " 1.32403e-5   0.000129793  4.58594e-7      0.000150628  0.00461339\n",
       " 1.55748e-6   0.000176564  0.000799467     0.0013983    0.000121874\n",
       " 4.78106e-6   0.0053863    0.000230975     0.000265597  0.000218478\n",
       " 8.40394e-7   3.61371e-5   0.000409667  …  0.000565419  0.000970809\n",
       " 1.6985e-5    0.00143541   0.000473752     2.6235e-6    0.000375361\n",
       " 1.70434e-6   2.92237e-5   0.000161467     0.000342924  0.000294663\n",
       " 4.26678e-5   0.000151282  0.000285345     0.0          9.39768e-5\n",
       " 1.05995e-5   2.31776e-5   0.000388433     2.99898e-5   0.0"
      ]
     },
     "execution_count": 75,
     "metadata": {},
     "output_type": "execute_result"
    }
   ],
   "source": [
    "P = binary_search(data)[1]"
   ]
  },
  {
   "cell_type": "code",
   "execution_count": null,
   "metadata": {},
   "outputs": [],
   "source": []
  }
 ],
 "metadata": {
  "kernelspec": {
   "display_name": "Julia 1.6.2",
   "language": "julia",
   "name": "julia-1.6"
  },
  "language_info": {
   "file_extension": ".jl",
   "mimetype": "application/julia",
   "name": "julia",
   "version": "1.6.2"
  },
  "orig_nbformat": 4
 },
 "nbformat": 4,
 "nbformat_minor": 2
}
