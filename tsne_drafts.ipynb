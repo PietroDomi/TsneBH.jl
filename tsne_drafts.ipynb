{
 "cells": [
  {
   "cell_type": "markdown",
   "metadata": {},
   "source": [
    "# TSNE.jl"
   ]
  },
  {
   "cell_type": "markdown",
   "metadata": {},
   "source": [
    "## Plot examples"
   ]
  },
  {
   "cell_type": "code",
   "execution_count": null,
   "metadata": {},
   "outputs": [],
   "source": [
    "using Plots"
   ]
  },
  {
   "cell_type": "code",
   "execution_count": 1,
   "metadata": {},
   "outputs": [
    {
     "name": "stdout",
     "output_type": "stream",
     "text": [
      "pipp8ne\n"
     ]
    }
   ],
   "source": [
    "function pippo()\n",
    "    println(\"pipp8ne\")\n",
    "end\n",
    "pippo()"
   ]
  },
  {
   "cell_type": "code",
   "execution_count": null,
   "metadata": {},
   "outputs": [],
   "source": [
    "# define the Lorenz attractor\n",
    "Base.@kwdef mutable struct Lorenz\n",
    "    dt::Float64 = 0.02\n",
    "    σ::Float64 = 10\n",
    "    ρ::Float64 = 28\n",
    "    β::Float64 = 8/3\n",
    "    x::Float64 = 1\n",
    "    y::Float64 = 1\n",
    "    z::Float64 = 1\n",
    "end\n",
    "\n",
    "function step!(l::Lorenz)\n",
    "    dx = l.σ * (l.y - l.x)\n",
    "    dy = l.x * (l.ρ - l.z) - l.y\n",
    "    dz = l.x * l.y - l.β * l.z\n",
    "    l.x += l.dt * dx\n",
    "    l.y += l.dt * dy\n",
    "    l.z += l.dt * dz\n",
    "end\n",
    "\n",
    "attractor = Lorenz()\n",
    "\n",
    "\n",
    "# initialize a 3D plot with 1 empty series\n",
    "plt = plot3d(\n",
    "    1,\n",
    "    xlim = (-30, 30),\n",
    "    ylim = (-30, 30),\n",
    "    zlim = (0, 60),\n",
    "    title = \"Lorenz Attractor\",\n",
    "    marker = 2,\n",
    ")\n",
    "\n",
    "# build an animated gif by pushing new points to the plot, saving every 10th frame\n",
    "@gif for i=1:1500\n",
    "    step!(attractor)\n",
    "    push!(plt, attractor.x, attractor.y, attractor.z)\n",
    "end every 10"
   ]
  },
  {
   "cell_type": "markdown",
   "metadata": {},
   "source": [
    "## TSNE code"
   ]
  },
  {
   "cell_type": "code",
   "execution_count": 1,
   "metadata": {},
   "outputs": [],
   "source": [
    "using LinearAlgebra"
   ]
  },
  {
   "cell_type": "code",
   "execution_count": 365,
   "metadata": {},
   "outputs": [
    {
     "data": {
      "text/plain": [
       "2"
      ]
     },
     "execution_count": 365,
     "metadata": {},
     "output_type": "execute_result"
    }
   ],
   "source": [
    "N = 200\n",
    "X_dim = 100\n",
    "Y_dim = 2"
   ]
  },
  {
   "cell_type": "code",
   "execution_count": 366,
   "metadata": {},
   "outputs": [],
   "source": [
    "data = randn(N,X_dim);\n",
    "data_red = randn(N,Y_dim);"
   ]
  },
  {
   "cell_type": "code",
   "execution_count": 287,
   "metadata": {},
   "outputs": [
    {
     "data": {
      "text/plain": [
       "eu_dist (generic function with 1 method)"
      ]
     },
     "execution_count": 287,
     "metadata": {},
     "output_type": "execute_result"
    }
   ],
   "source": [
    "function eu_dist(data::Array{Float64,2})\n",
    "    dist_mat2 = zeros(size(data)[1],size(data)[1])\n",
    "    for i in 1:size(data)[1], j in i:size(data)[1]\n",
    "        dist_mat2[i,j] = sum((data[i,:] - data[j,:]).^2)\n",
    "        dist_mat2[j,i] = dist_mat2[i,j]\n",
    "    end\n",
    "    dist_mat2\n",
    "end"
   ]
  },
  {
   "cell_type": "code",
   "execution_count": 288,
   "metadata": {},
   "outputs": [],
   "source": [
    "dist_mat = eu_dist(data);\n",
    "dist_mat_red = eu_dist(data_red);"
   ]
  },
  {
   "cell_type": "code",
   "execution_count": 289,
   "metadata": {},
   "outputs": [
    {
     "data": {
      "text/plain": [
       "100×1 Matrix{Float64}:\n",
       " 79.05295015545049\n",
       " 62.35224067970594\n",
       " 65.12244644667453\n",
       " 71.28543405207274\n",
       " 63.831674578345826\n",
       " 63.93422430440896\n",
       " 58.217344993046645\n",
       " 64.77157730476466\n",
       " 66.5554146308845\n",
       " 70.72229747722163\n",
       " 62.4244769109867\n",
       " 66.05896326054142\n",
       " 61.785244363219135\n",
       "  ⋮\n",
       " 65.12829331505108\n",
       " 63.940568696177955\n",
       " 71.13158422547735\n",
       " 72.63132232054015\n",
       " 68.79931318069642\n",
       " 71.55815032835218\n",
       " 70.67233913026904\n",
       " 62.28972371968171\n",
       " 65.49462731729449\n",
       " 65.47031388076084\n",
       " 65.60768642793053\n",
       " 64.12169547561928"
      ]
     },
     "execution_count": 289,
     "metadata": {},
     "output_type": "execute_result"
    }
   ],
   "source": [
    "sum(data.^2,dims=2)"
   ]
  },
  {
   "cell_type": "code",
   "execution_count": 290,
   "metadata": {},
   "outputs": [
    {
     "data": {
      "text/plain": [
       "cond_gauss (generic function with 1 method)"
      ]
     },
     "execution_count": 290,
     "metadata": {},
     "output_type": "execute_result"
    }
   ],
   "source": [
    "function cond_gauss(data::Matrix{Float64};sigma::Float64=1.0)\n",
    "    exp_mat = exp.(-eu_dist(data)/(2*sigma^2))\n",
    "    for i in 1:size(exp_mat)[1]\n",
    "        exp_mat[i,i] = 0.\n",
    "    end\n",
    "    prob = max.(exp_mat/sum(exp_mat),1e-12)\n",
    "    prob, exp_mat\n",
    "end"
   ]
  },
  {
   "cell_type": "code",
   "execution_count": 291,
   "metadata": {},
   "outputs": [
    {
     "data": {
      "text/plain": [
       "cond_t (generic function with 1 method)"
      ]
     },
     "execution_count": 291,
     "metadata": {},
     "output_type": "execute_result"
    }
   ],
   "source": [
    "function cond_t(data::Matrix{Float64};df::Int64=1)\n",
    "    sum_x = sum(data.^2,dims=2)\n",
    "    num = -2. * data * transpose(data)\n",
    "    num = 1. ./ (1. .+ (transpose(num .+ sum_x) .+ sum_x))\n",
    "    for i in 1:size(num)[1]\n",
    "        num[i,i] = 0.\n",
    "    end\n",
    "    max.(num/sum(num),1e-12), num\n",
    "end"
   ]
  },
  {
   "cell_type": "code",
   "execution_count": 292,
   "metadata": {},
   "outputs": [],
   "source": [
    "p_distr, exp_mat = cond_gauss(data)\n",
    "q_distr_g, _ = cond_gauss(data_red,sigma=1/(sqrt(2)));\n",
    "q_distr_t, num = cond_t(data_red);\n"
   ]
  },
  {
   "cell_type": "code",
   "execution_count": 274,
   "metadata": {},
   "outputs": [
    {
     "data": {
      "text/plain": [
       "cost_KL (generic function with 1 method)"
      ]
     },
     "execution_count": 274,
     "metadata": {},
     "output_type": "execute_result"
    }
   ],
   "source": [
    "cost_KL(p_distr::Matrix{Float64},q_distr::Matrix{Float64}) = sum(p_distr.*(log.(p_distr./q_distr)))"
   ]
  },
  {
   "cell_type": "code",
   "execution_count": 293,
   "metadata": {},
   "outputs": [
    {
     "data": {
      "text/plain": [
       "perplexity (generic function with 1 method)"
      ]
     },
     "execution_count": 293,
     "metadata": {},
     "output_type": "execute_result"
    }
   ],
   "source": [
    "function shannon_entropy(p_distr::Matrix{Float64})\n",
    "    sh = p_distr.* log2.(p_distr)\n",
    "    for i in 1:size(sh)[1]\n",
    "        sh[i,i] = 0.\n",
    "    end\n",
    "    -sum(sh,dims=2)\n",
    "end\n",
    "\n",
    "perplexity(p_distr::Matrix{Float64}) = 2 .^shannon_entropy(p_distr)\n"
   ]
  },
  {
   "cell_type": "code",
   "execution_count": 295,
   "metadata": {},
   "outputs": [],
   "source": [
    "perplexity(p_distr);"
   ]
  },
  {
   "cell_type": "code",
   "execution_count": 188,
   "metadata": {},
   "outputs": [
    {
     "data": {
      "text/plain": [
       "(5, 2)"
      ]
     },
     "execution_count": 188,
     "metadata": {},
     "output_type": "execute_result"
    }
   ],
   "source": [
    "size(data_red)"
   ]
  },
  {
   "cell_type": "code",
   "execution_count": 298,
   "metadata": {},
   "outputs": [
    {
     "data": {
      "text/plain": [
       "1×2 Matrix{Float64}:\n",
       " -0.000590371  0.00103943"
      ]
     },
     "execution_count": 298,
     "metadata": {},
     "output_type": "execute_result"
    }
   ],
   "source": [
    "PQ = p_distr - q_distr_t\n",
    "sum(repeat(PQ[:,1] .* num[:,1],1,2) .* (transpose(data_red[1,:]) .- data_red),dims=1)"
   ]
  },
  {
   "cell_type": "code",
   "execution_count": 361,
   "metadata": {},
   "outputs": [
    {
     "data": {
      "text/plain": [
       "grad_KL (generic function with 1 method)"
      ]
     },
     "execution_count": 361,
     "metadata": {},
     "output_type": "execute_result"
    }
   ],
   "source": [
    "function grad_KL(data::Matrix{Float64},data_red::Matrix{Float64})\n",
    "    q_distr, num = cond_t(data_red)\n",
    "    PQ = cond_gauss(data)[1] - q_distr\n",
    "    dy = zeros(size(data_red))\n",
    "    for i in 1:size(dy)[1]\n",
    "        dy[i,:] = sum(repeat(PQ[:,i] .* num[:,i],1,size(data_red)[2]) .* (transpose(data_red[i,:]) .- data_red),dims=1)\n",
    "    end\n",
    "    dy\n",
    "end"
   ]
  },
  {
   "cell_type": "code",
   "execution_count": 302,
   "metadata": {},
   "outputs": [],
   "source": [
    "dr = copy(data_red);"
   ]
  },
  {
   "cell_type": "code",
   "execution_count": 303,
   "metadata": {},
   "outputs": [
    {
     "name": "stdout",
     "output_type": "stream",
     "text": [
      "10 0.8898280649831637\n",
      "20 0.8812140840332808\n",
      "30 0.8734504572896833\n",
      "40 0.8664554705484617\n",
      "50 0.8601532159482199\n",
      "60 0.8544702873703078\n",
      "70 0.8493349106676045\n",
      "80 0.844677669968315\n",
      "90 0.8404329089162555\n",
      "100 0.8365401142968704\n",
      "110 0.8329449026091166\n",
      "120 0.829599494635922\n",
      "130 0.8264627273010492\n",
      "140 0.8234997227440395\n",
      "150 0.8206813434225616\n",
      "160 0.817983540963172\n",
      "170 0.8153866768079585\n",
      "180 0.8128748652736788\n",
      "190 0.8104353682812284\n",
      "200 0.8080580559887818\n",
      "210 0.8057349377592828\n",
      "220 0.8034597619287867\n",
      "230 0.8012276795049028\n",
      "240 0.7990349652919108\n",
      "250 0.7968787893622904\n",
      "260 0.7947570318413388\n",
      "270 0.7926681343666665\n",
      "280 0.790610982158227\n",
      "290 0.7885848112857676\n",
      "300 0.7865891363896395\n",
      "310 0.7846236947627299\n",
      "320 0.7826884033151422\n",
      "330 0.7807833255069248\n",
      "340 0.778908645841044\n",
      "350 0.7770646499564295\n",
      "360 0.7752517087500108\n",
      "370 0.7734702652903936\n",
      "380 0.7717208235690087\n",
      "390 0.7700039383728533\n",
      "400 0.7683202057621562\n",
      "410 0.7666702538017933\n",
      "420 0.7650547333316777\n",
      "430 0.7634743086723492\n",
      "440 0.7619296482505211\n",
      "450 0.7604214151975743\n",
      "460 0.7589502580238084\n",
      "470 0.7575168015042286\n",
      "480 0.7561216379294784\n",
      "490 0.7547653188799623\n",
      "500 0.7534483476742608\n",
      "510 0.7521711726267553\n",
      "520 0.7509341812262367\n",
      "530 0.7497376953194423\n",
      "540 0.7485819673530866\n",
      "550 0.7474671776970647\n",
      "560 0.7463934330417228\n",
      "570 0.7453607658348097\n",
      "580 0.7443691346999594\n",
      "590 0.7434184257589165\n",
      "600 0.7425084547645985\n",
      "610 0.7416389699414982\n",
      "620 0.7408096554237102\n",
      "630 0.7400201351786863\n",
      "640 0.7392699773061528\n",
      "650 0.7385586986059793\n",
      "660 0.7378857693155114\n",
      "670 0.7372506179254437\n",
      "680 0.7366526359930923\n",
      "690 0.736091182882485\n",
      "700 0.7355655903714724\n",
      "710 0.7350751670768041\n",
      "720 0.7346192026583951\n",
      "730 0.7341969717736563\n",
      "740 0.7338077377615735\n",
      "750 0.7334507560440999\n",
      "760 0.733125277239285\n",
      "770 0.7328305499864429\n",
      "780 0.7325658234885086\n",
      "790 0.7323303497806677\n",
      "800 0.7321233857374039\n",
      "810 0.7319441948323535\n",
      "820 0.7317920486669464\n",
      "830 0.7316662282847619\n",
      "840 0.7315660252889831\n",
      "850 0.7314907427803611\n",
      "860 0.7314396961327942\n",
      "870 0.7314122136230274\n",
      "880 0.7314076369302208\n",
      "890 0.7314253215201869\n",
      "900 0.7314646369280946\n",
      "910 0.7315249669523529\n",
      "920 0.7316057097713042\n",
      "930 0.7317062779932715\n",
      "940 0.7318260986494458\n",
      "950 0.7319646131380999\n",
      "960 0.7321212771276489\n",
      "970 0.7322955604252068\n",
      "980 0.7324869468164504\n",
      "990 0.7326949338818675\n",
      "1000 0.7329190327937765\n"
     ]
    }
   ],
   "source": [
    "for t in 1:1000\n",
    "    dy = grad_KL(data,dr)\n",
    "    dr = dr - 1*dy\n",
    "    if t%10 == 0\n",
    "        println(t,\" \",cost_KL(cond_gauss(data)[1],cond_t(dr)[1]))\n",
    "    end\n",
    "end"
   ]
  },
  {
   "cell_type": "code",
   "execution_count": 337,
   "metadata": {},
   "outputs": [
    {
     "data": {
      "text/plain": [
       "100×2 Matrix{Float64}:\n",
       "  0.89899    -1.72432\n",
       " -0.1887     -0.175039\n",
       " -1.16986    -0.0769383\n",
       "  0.1186      0.119816\n",
       " -0.11212    -0.495481\n",
       " -1.40859    -1.23151\n",
       "  0.0657225  -0.0811027\n",
       "  0.0364917  -0.0586603\n",
       "  1.02339    -1.87048\n",
       "  0.0179117  -0.315377\n",
       "  0.226072    0.0978493\n",
       "  0.405802   -0.977637\n",
       " -0.783667   -0.128462\n",
       "  ⋮          \n",
       "  0.0983338   0.0634371\n",
       " -0.148654   -0.521593\n",
       " -0.0605545  -0.0199561\n",
       "  0.915385   -0.92417\n",
       " -1.25054     0.850166\n",
       "  0.013457    0.930403\n",
       "  2.21889    -1.01548\n",
       "  1.07697    -1.43864\n",
       " -0.0381682   0.0763653\n",
       " -0.0435397   0.110315\n",
       " -0.231848    0.00158013\n",
       " -0.0151336  -0.152494"
      ]
     },
     "execution_count": 337,
     "metadata": {},
     "output_type": "execute_result"
    }
   ],
   "source": [
    "dr .- repeat(sum(dr,dims=1)/size(dr)[1],size(dr)[1],1)"
   ]
  },
  {
   "cell_type": "code",
   "execution_count": 362,
   "metadata": {},
   "outputs": [
    {
     "data": {
      "text/plain": [
       "gradient_descent (generic function with 3 methods)"
      ]
     },
     "execution_count": 362,
     "metadata": {},
     "output_type": "execute_result"
    }
   ],
   "source": [
    "function gradient_descent(T::Int64,data::Matrix{Float64},data_red::Matrix{Float64},lr::Float64)\n",
    "    # Start iterating\n",
    "    dr = copy(data_red)\n",
    "    for t in 1:T\n",
    "        # Compute gradient\n",
    "        dy = grad_KL(data,dr)\n",
    "        # Update values\n",
    "        dr = dr - lr * dy\n",
    "        # Compute loss\n",
    "        if t % 10 == 0\n",
    "            println(t,\" \",cost_KL(cond_gauss(data)[1],cond_t(dr)[1]))\n",
    "        end\n",
    "        # Center in zero\n",
    "        dr = dr - repeat(sum(dr,dims=1)/size(dr)[1],size(dr)[1],1)\n",
    "    end\n",
    "    dr\n",
    "end"
   ]
  },
  {
   "cell_type": "code",
   "execution_count": 363,
   "metadata": {},
   "outputs": [
    {
     "data": {
      "text/plain": [
       "tsne (generic function with 1 method)"
      ]
     },
     "execution_count": 363,
     "metadata": {},
     "output_type": "execute_result"
    }
   ],
   "source": [
    "function tsne(X::Matrix{Float64},emb_size::Int64,T::Int64;lr::Float64=1.)\n",
    "    # Create an initial embedding\n",
    "    Y = randn(size(X)[1],emb_size)\n",
    "    # Start the iteration\n",
    "    Y_new = gradient_descent(T,X,Y,lr)\n",
    "end"
   ]
  },
  {
   "cell_type": "code",
   "execution_count": 367,
   "metadata": {},
   "outputs": [
    {
     "name": "stdout",
     "output_type": "stream",
     "text": [
      "10 8.183569759167924\n",
      "20 8.073026550683077\n",
      "30 8.040579133674095\n",
      "40 8.00891358537357\n",
      "50 7.974479710151515\n",
      "60 7.936002698139684\n",
      "70 7.891903599962814\n",
      "80 7.841450674903781\n",
      "90 7.791637614996068\n",
      "100 7.759366336835661\n"
     ]
    },
    {
     "data": {
      "text/plain": [
       "200×2 Matrix{Float64}:\n",
       "  0.627148   -0.614059\n",
       " -1.10413     0.0657984\n",
       " -0.486111    1.13798\n",
       " -0.131729   -0.408703\n",
       "  0.943873   -2.07824\n",
       "  0.291096    0.72165\n",
       " -0.38065     1.85284\n",
       "  1.31349     0.691577\n",
       " -0.173786    1.10805\n",
       " -0.786114   -1.83113\n",
       "  0.571455    0.287831\n",
       "  1.508       1.93521\n",
       "  0.10362    -1.11015\n",
       "  ⋮          \n",
       " -0.0468275   2.51032\n",
       "  0.90184     1.80113\n",
       " -0.116323    1.86613\n",
       " -1.50972    -1.89269\n",
       " -0.0249173   1.81965\n",
       " -0.816542   -2.18481\n",
       "  0.874543    0.676234\n",
       " -1.65291     0.927422\n",
       " -1.43433    -0.401058\n",
       " -0.988598   -1.55601\n",
       "  1.80441    -1.96405\n",
       "  0.135701   -0.339527"
      ]
     },
     "execution_count": 367,
     "metadata": {},
     "output_type": "execute_result"
    }
   ],
   "source": [
    "tsne(data,2,100;lr=2.)"
   ]
  },
  {
   "cell_type": "code",
   "execution_count": null,
   "metadata": {},
   "outputs": [],
   "source": []
  }
 ],
 "metadata": {
  "kernelspec": {
   "display_name": "Julia 1.6.2",
   "language": "julia",
   "name": "julia-1.6"
  },
  "language_info": {
   "file_extension": ".jl",
   "mimetype": "application/julia",
   "name": "julia",
   "version": "1.6.2"
  },
  "orig_nbformat": 4
 },
 "nbformat": 4,
 "nbformat_minor": 2
}
